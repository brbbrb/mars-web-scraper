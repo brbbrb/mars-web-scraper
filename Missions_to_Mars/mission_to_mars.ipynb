{
 "cells": [
  {
   "cell_type": "code",
   "execution_count": 1,
   "id": "9f902b7d",
   "metadata": {},
   "outputs": [],
   "source": [
    "# Dependencies\n",
    "from splinter import Browser\n",
    "from bs4 import BeautifulSoup\n",
    "from webdriver_manager.chrome import ChromeDriverManager"
   ]
  },
  {
   "cell_type": "code",
   "execution_count": 2,
   "id": "913fe554",
   "metadata": {},
   "outputs": [
    {
     "name": "stderr",
     "output_type": "stream",
     "text": [
      "\n",
      "\n",
      "====== WebDriver manager ======\n",
      "Current google-chrome version is 94.0.4606\n",
      "Get LATEST driver version for 94.0.4606\n",
      "Driver [/Users/bradleybarker/.wdm/drivers/chromedriver/mac64/94.0.4606.61/chromedriver] found in cache\n"
     ]
    }
   ],
   "source": [
    "# Setup splinter\n",
    "executable_path = {'executable_path': ChromeDriverManager().install()}\n",
    "browser = Browser('chrome', **executable_path, headless=False)"
   ]
  },
  {
   "cell_type": "code",
   "execution_count": null,
   "id": "700972c6",
   "metadata": {},
   "outputs": [],
   "source": []
  },
  {
   "cell_type": "code",
   "execution_count": null,
   "id": "81cd5cb2",
   "metadata": {},
   "outputs": [],
   "source": []
  },
  {
   "cell_type": "code",
   "execution_count": null,
   "id": "a3120716",
   "metadata": {},
   "outputs": [],
   "source": []
  },
  {
   "cell_type": "code",
   "execution_count": 3,
   "id": "6497f696",
   "metadata": {},
   "outputs": [],
   "source": [
    "# URL of page to be scraped\n",
    "url = 'https://redplanetscience.com/'\n",
    "\n",
    "browser.visit(url)\n",
    "\n",
    "# Create BeautifulSoup object; parse with 'html.parser'\n",
    "soup = BeautifulSoup(browser.html, 'html.parser')"
   ]
  },
  {
   "cell_type": "code",
   "execution_count": 4,
   "id": "82378777",
   "metadata": {},
   "outputs": [
    {
     "name": "stdout",
     "output_type": "stream",
     "text": [
      "<div class=\"list_text\">\n",
      "<div class=\"list_date\">October 7, 2021</div>\n",
      "<div class=\"content_title\">NASA's Perseverance Rover Mission Getting in Shape for Launch</div>\n",
      "<div class=\"article_teaser_body\">Stacking spacecraft components on top of each other is one of the final assembly steps before a mission launches to the Red Planet. </div>\n",
      "</div>\n"
     ]
    }
   ],
   "source": [
    "print(soup.select_one('div.list_text'))"
   ]
  },
  {
   "cell_type": "code",
   "execution_count": 9,
   "id": "768f1aff",
   "metadata": {},
   "outputs": [],
   "source": [
    "news_title = soup.find_all('div', class_='col-md-8')[0].find('div',class_='content_title').text"
   ]
  },
  {
   "cell_type": "code",
   "execution_count": 10,
   "id": "f7aa5df6",
   "metadata": {},
   "outputs": [],
   "source": [
    "news_p = soup.find_all('div', class_='col-md-8')[0].find('div',class_='article_teaser_body').text"
   ]
  },
  {
   "cell_type": "code",
   "execution_count": null,
   "id": "7e0b3b45",
   "metadata": {},
   "outputs": [],
   "source": []
  },
  {
   "cell_type": "code",
   "execution_count": null,
   "id": "bbaadf1b",
   "metadata": {},
   "outputs": [],
   "source": [
    "#browser.click to click on each link\n",
    "#browser.back to return to main page\n",
    "#save the title and image urls to a dictionary \n",
    "#save all info to mongo db\n",
    "\n",
    "#activities: wk 12, day 3, activities 5-10 (esp 10)\n",
    "\n",
    "#quit browser \n",
    "\n",
    "#when creating flask app, you may need to introduce \"time.sleep\" between different browser visits"
   ]
  }
 ],
 "metadata": {
  "kernelspec": {
   "display_name": "Python 3",
   "language": "python",
   "name": "python3"
  },
  "language_info": {
   "codemirror_mode": {
    "name": "ipython",
    "version": 3
   },
   "file_extension": ".py",
   "mimetype": "text/x-python",
   "name": "python",
   "nbconvert_exporter": "python",
   "pygments_lexer": "ipython3",
   "version": "3.8.8"
  }
 },
 "nbformat": 4,
 "nbformat_minor": 5
}
