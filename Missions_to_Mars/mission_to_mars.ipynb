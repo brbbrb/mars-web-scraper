{
 "cells": [
  {
   "cell_type": "code",
   "execution_count": 1,
   "id": "9f902b7d",
   "metadata": {},
   "outputs": [],
   "source": [
    "# Dependencies\n",
    "from bs4 import BeautifulSoup\n",
    "import requests\n",
    "import pymongo"
   ]
  },
  {
   "cell_type": "code",
   "execution_count": 2,
   "id": "700972c6",
   "metadata": {},
   "outputs": [],
   "source": [
    "# Initialize PyMongo to work with MongoDBs\n",
    "conn = 'mongodb://localhost:27017'\n",
    "client = pymongo.MongoClient(conn)"
   ]
  },
  {
   "cell_type": "code",
   "execution_count": 3,
   "id": "a3120716",
   "metadata": {},
   "outputs": [],
   "source": [
    "db = client.mars_news_db\n",
    "collection = db.items"
   ]
  },
  {
   "cell_type": "code",
   "execution_count": 4,
   "id": "6497f696",
   "metadata": {},
   "outputs": [],
   "source": [
    "# URL of page to be scraped\n",
    "url = 'https://redplanetscience.com/'\n",
    "\n",
    "# Retrieve page with the requests module\n",
    "response = requests.get(url)\n",
    "# Create BeautifulSoup object; parse with 'lxml'\n",
    "soup = BeautifulSoup(response.text, 'lxml')"
   ]
  },
  {
   "cell_type": "code",
   "execution_count": null,
   "id": "f9861596",
   "metadata": {},
   "outputs": [],
   "source": [
    "# Examine the results, then determine element that contains sought info\n",
    "results = soup.find_all('div', class_=\"col-md-8\")\n",
    "\n",
    "####\n",
    "####\n",
    "# NEED TO DOUBLE CHECK EVERYTHING BELOW\n",
    "####\n",
    "####\n",
    "\n",
    "    # Error handling\n",
    "    try:\n",
    "        # Identify and return title of listing\n",
    "        title = result.find('a', class_='title').text\n",
    "        # Identify and return price of listing\n",
    "        price = result.find('h4', class_='price').text\n",
    "\n",
    "\n",
    "        # Run only if title, price, and link are available\n",
    "        if (title and price and link):\n",
    "            # Print results\n",
    "            print('-------------')\n",
    "            print(title)\n",
    "            print(price)\n",
    "            print(link)\n",
    "\n",
    "            # Dictionary to be inserted as a MongoDB document\n",
    "            post = {\n",
    "                'title': title,\n",
    "                'price': price,\n",
    "                'url': link\n",
    "            }\n",
    "\n",
    "            collection.insert_one(post)\n",
    "\n",
    "    except Exception as e:\n",
    "        print(e)"
   ]
  }
 ],
 "metadata": {
  "kernelspec": {
   "display_name": "Python 3",
   "language": "python",
   "name": "python3"
  },
  "language_info": {
   "codemirror_mode": {
    "name": "ipython",
    "version": 3
   },
   "file_extension": ".py",
   "mimetype": "text/x-python",
   "name": "python",
   "nbconvert_exporter": "python",
   "pygments_lexer": "ipython3",
   "version": "3.8.8"
  }
 },
 "nbformat": 4,
 "nbformat_minor": 5
}
