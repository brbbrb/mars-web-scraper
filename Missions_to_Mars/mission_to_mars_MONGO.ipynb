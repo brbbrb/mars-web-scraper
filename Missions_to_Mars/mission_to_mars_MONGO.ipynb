{
 "cells": [
  {
   "cell_type": "code",
   "execution_count": 8,
   "id": "9f902b7d",
   "metadata": {},
   "outputs": [],
   "source": [
    "# Dependencies\n",
    "from bs4 import BeautifulSoup\n",
    "import requests\n",
    "import pymongo"
   ]
  },
  {
   "cell_type": "code",
   "execution_count": 9,
   "id": "700972c6",
   "metadata": {},
   "outputs": [],
   "source": [
    "# Initialize PyMongo to work with MongoDBs\n",
    "conn = 'mongodb://localhost:27017'\n",
    "client = pymongo.MongoClient(conn)"
   ]
  },
  {
   "cell_type": "code",
   "execution_count": 10,
   "id": "a3120716",
   "metadata": {},
   "outputs": [],
   "source": [
    "# Define database and collection\n",
    "db = client.mars_news_db\n",
    "collection = db.items"
   ]
  },
  {
   "cell_type": "code",
   "execution_count": 11,
   "id": "6497f696",
   "metadata": {},
   "outputs": [],
   "source": [
    "# URL of page to be scraped\n",
    "url = 'https://redplanetscience.com/'\n",
    "\n",
    "# Retrieve page with the requests module\n",
    "response = requests.get(url)\n",
    "# Create BeautifulSoup object; parse with 'lxml'\n",
    "soup = BeautifulSoup(response.text, 'lxml')"
   ]
  },
  {
   "cell_type": "code",
   "execution_count": 12,
   "id": "f9861596",
   "metadata": {},
   "outputs": [],
   "source": [
    "# Examine the results, then determine element that contains sought info\n",
    "results = soup.find_all('div', class_='list_text')\n",
    "\n",
    "# Scrape first instance of News Title and Paragraph Text\n",
    "for result in results:\n",
    "    \n",
    "    # Error handling\n",
    "    try:\n",
    "        # Identify and return news title of listing\n",
    "        news_title = result.find('div', class_='content_title').text\n",
    "        # Identify and return price of listing\n",
    "        paragraph_text = result.find('div', class_='article_teaser_body').text\n",
    "\n",
    "\n",
    "        # Run only if news title and paragraph text are available\n",
    "        if (news_title and paragraph_text):\n",
    "            # Print results\n",
    "            print('-------------')\n",
    "            print(news_title)\n",
    "            print(paragraph_text)\n",
    "\n",
    "            # Dictionary to be inserted as a MongoDB document\n",
    "            post = {\n",
    "                'news_title': news_title,\n",
    "                'paragraph_text': paragraph_text,\n",
    "            }\n",
    "\n",
    "            collection.insert_one(post)\n",
    "\n",
    "    except Exception as e:\n",
    "        print(e)"
   ]
  },
  {
   "cell_type": "code",
   "execution_count": 13,
   "id": "5454b8ae",
   "metadata": {},
   "outputs": [],
   "source": [
    "# Display items in MongoDB collection\n",
    "listings = db.items.find()\n",
    "\n",
    "for listing in listings:\n",
    "    print(listing)"
   ]
  },
  {
   "cell_type": "code",
   "execution_count": null,
   "id": "d4ee6f2c",
   "metadata": {},
   "outputs": [],
   "source": []
  }
 ],
 "metadata": {
  "kernelspec": {
   "display_name": "Python 3",
   "language": "python",
   "name": "python3"
  },
  "language_info": {
   "codemirror_mode": {
    "name": "ipython",
    "version": 3
   },
   "file_extension": ".py",
   "mimetype": "text/x-python",
   "name": "python",
   "nbconvert_exporter": "python",
   "pygments_lexer": "ipython3",
   "version": "3.8.8"
  }
 },
 "nbformat": 4,
 "nbformat_minor": 5
}
