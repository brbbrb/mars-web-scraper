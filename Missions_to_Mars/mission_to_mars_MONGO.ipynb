{
 "cells": [
  {
   "cell_type": "code",
   "execution_count": 74,
   "id": "9f902b7d",
   "metadata": {},
   "outputs": [],
   "source": [
    "# Dependencies\n",
    "from splinter import Browser\n",
    "from bs4 import BeautifulSoup\n",
    "import requests\n",
    "import pymongo\n",
    "from webdriver_manager.chrome import ChromeDriverManager"
   ]
  },
  {
   "cell_type": "code",
   "execution_count": 59,
   "id": "52f55ce2",
   "metadata": {},
   "outputs": [
    {
     "name": "stderr",
     "output_type": "stream",
     "text": [
      "\n",
      "\n",
      "====== WebDriver manager ======\n",
      "Current google-chrome version is 94.0.4606\n",
      "Get LATEST driver version for 94.0.4606\n",
      "Driver [/Users/bradleybarker/.wdm/drivers/chromedriver/mac64/94.0.4606.61/chromedriver] found in cache\n"
     ]
    }
   ],
   "source": [
    "# Setup splinter\n",
    "executable_path = {'executable_path': ChromeDriverManager().install()}\n",
    "browser = Browser('chrome', **executable_path, headless=False)"
   ]
  },
  {
   "cell_type": "code",
   "execution_count": 2,
   "id": "700972c6",
   "metadata": {},
   "outputs": [],
   "source": [
    "# Initialize PyMongo to work with MongoDBs\n",
    "conn = 'mongodb://localhost:27017'\n",
    "client = pymongo.MongoClient(conn)"
   ]
  },
  {
   "cell_type": "code",
   "execution_count": 3,
   "id": "74007054",
   "metadata": {},
   "outputs": [
    {
     "data": {
      "text/plain": [
       "MongoClient(host=['localhost:27017'], document_class=dict, tz_aware=False, connect=True)"
      ]
     },
     "execution_count": 3,
     "metadata": {},
     "output_type": "execute_result"
    }
   ],
   "source": [
    "# confirm connection\n",
    "client"
   ]
  },
  {
   "cell_type": "code",
   "execution_count": 4,
   "id": "a3120716",
   "metadata": {},
   "outputs": [],
   "source": [
    "# Define database and collection\n",
    "db = client.mars_news_db\n",
    "collection = db.items"
   ]
  },
  {
   "cell_type": "code",
   "execution_count": 60,
   "id": "6497f696",
   "metadata": {},
   "outputs": [],
   "source": [
    "# URL of page to be scraped\n",
    "url = 'https://redplanetscience.com/'\n",
    "\n",
    "browser.visit(url)\n",
    "\n",
    "# Create BeautifulSoup object; parse with 'lxml'\n",
    "soup = BeautifulSoup(browser.html, 'html.parser')"
   ]
  },
  {
   "cell_type": "code",
   "execution_count": null,
   "id": "5e88c3b5",
   "metadata": {},
   "outputs": [],
   "source": [
    "<div class=\"row\">\n",
    "\t\t\t\t\t\t\t\t\t\t  <div class=\"col-md-4\">\n",
    "\t\t\t\t\t\t\t\t\t\t\t <div class=\"list_image\">\n",
    "\t\t\t\t\t\t\t\t\t\t\t\t<img src=\"https://mars.nasa.gov/system/news_items/list_view_images/8649_PIA23828-MAINimage-RoverNamePlate-320x240.jpg\">\n",
    "\t\t\t\t\t\t\t\t\t\t\t </div>\n",
    "\t\t\t\t\t\t\t\t\t\t  </div>\n",
    "\t\t\t\t\t\t\t\t\t\t  <div class=\"col-md-8\">\n",
    "\t\t\t\t\t\t\t\t\t\t  \t<div class=\"list_text\">\n",
    "\t\t\t\t\t\t\t\t\t\t\t <div class=\"list_date\">October 7, 2021</div>\n",
    "\t\t\t\t\t\t\t\t\t\t\t <div class=\"content_title\">NASA's Perseverance Mars Rover Gets Balanced</div>\n",
    "\t\t\t\t\t\t\t\t\t\t\t <div class=\"article_teaser_body\">The mission team performed a crucial weight-balancing test on the rover in preparation for this summer's history-making launch to the Red Planet.</div>\n",
    "\t\t\t\t\t\t\t\t\t\t\t </div>\n",
    "\t\t\t\t\t\t\t\t\t\t  </div>\n",
    "\t\t\t\t\t\t\t\t\t   </div>"
   ]
  },
  {
   "cell_type": "code",
   "execution_count": 71,
   "id": "78a07b9a",
   "metadata": {
    "scrolled": true
   },
   "outputs": [],
   "source": [
    "title = soup.find_all('div', class_='col-md-8')[0].find('div',class_='content_title').text"
   ]
  },
  {
   "cell_type": "code",
   "execution_count": 72,
   "id": "29a130db",
   "metadata": {},
   "outputs": [
    {
     "data": {
      "text/plain": [
       "\"The mission team performed a crucial weight-balancing test on the rover in preparation for this summer's history-making launch to the Red Planet.\""
      ]
     },
     "execution_count": 72,
     "metadata": {},
     "output_type": "execute_result"
    }
   ],
   "source": [
    "soup.find_all('div', class_='col-md-8')[0].find('div',class_='article_teaser_body').text"
   ]
  },
  {
   "cell_type": "code",
   "execution_count": 65,
   "id": "37553af6",
   "metadata": {},
   "outputs": [
    {
     "name": "stdout",
     "output_type": "stream",
     "text": [
      "<div class=\"list_text\">\n",
      "<div class=\"list_date\">October 7, 2021</div>\n",
      "<div class=\"content_title\">NASA's Perseverance Mars Rover Gets Balanced</div>\n",
      "<div class=\"article_teaser_body\">The mission team performed a crucial weight-balancing test on the rover in preparation for this summer's history-making launch to the Red Planet.</div>\n",
      "</div>\n"
     ]
    }
   ],
   "source": [
    "print(soup.select_one('div.list_text'))"
   ]
  },
  {
   "cell_type": "code",
   "execution_count": 14,
   "id": "f2e25082",
   "metadata": {},
   "outputs": [
    {
     "data": {
      "text/plain": [
       "[]"
      ]
     },
     "execution_count": 14,
     "metadata": {},
     "output_type": "execute_result"
    }
   ],
   "source": []
  },
  {
   "cell_type": "code",
   "execution_count": null,
   "id": "c5120405",
   "metadata": {},
   "outputs": [],
   "source": [
    "# Display items in MongoDB collection\n",
    "listings = db.items.find()\n",
    "\n",
    "for listing in listings:\n",
    "    print(listing)"
   ]
  },
  {
   "cell_type": "code",
   "execution_count": null,
   "id": "8c74f72e",
   "metadata": {},
   "outputs": [],
   "source": [
    "#browser.click to click on each link\n",
    "#browser.back to return to main page\n",
    "#save the title and image urls to a dictionary \n",
    "#save all info to mongo db\n",
    "\n",
    "#activities: wk 12, day 3, activities 5-10 (esp 10)\n",
    "\n",
    "#quit browser \n",
    "\n",
    "#when creating flask app, you may need to introduce \"time.sleep\" between different browser visits"
   ]
  }
 ],
 "metadata": {
  "kernelspec": {
   "display_name": "Python 3",
   "language": "python",
   "name": "python3"
  },
  "language_info": {
   "codemirror_mode": {
    "name": "ipython",
    "version": 3
   },
   "file_extension": ".py",
   "mimetype": "text/x-python",
   "name": "python",
   "nbconvert_exporter": "python",
   "pygments_lexer": "ipython3",
   "version": "3.8.8"
  }
 },
 "nbformat": 4,
 "nbformat_minor": 5
}
